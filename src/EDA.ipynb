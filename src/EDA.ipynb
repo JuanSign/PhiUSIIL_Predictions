{
 "cells": [
  {
   "cell_type": "code",
   "execution_count": 1,
   "metadata": {},
   "outputs": [],
   "source": [
    "import pandas as pd\n",
    "import ipywidgets as widgets\n",
    "from IPython.display import clear_output"
   ]
  },
  {
   "cell_type": "code",
   "execution_count": 2,
   "metadata": {},
   "outputs": [],
   "source": [
    "# load dataset\n",
    "data = pd.read_csv(\"data/train.csv\")"
   ]
  },
  {
   "cell_type": "code",
   "execution_count": null,
   "metadata": {},
   "outputs": [],
   "source": [
    "# metadata\n",
    "metadata = pd.DataFrame({\n",
    "    'Type' : data.dtypes,\n",
    "    'Unique' : data.nunique(),\n",
    "    'Null' : data.isnull().sum()\n",
    "})\n",
    "metadata.sort_values(by=\"Unique\", inplace=True)\n",
    "\n",
    "display(metadata)"
   ]
  },
  {
   "cell_type": "code",
   "execution_count": null,
   "metadata": {},
   "outputs": [
    {
     "data": {
      "application/vnd.jupyter.widget-view+json": {
       "model_id": "552fb65d3c6544799d25250ac6daa03c",
       "version_major": 2,
       "version_minor": 0
      },
      "text/plain": [
       "Dropdown(description='Select Feature:', index=10, options=('id', 'FILENAME', 'URL', 'URLLength', 'Domain', 'Do…"
      ]
     },
     "metadata": {},
     "output_type": "display_data"
    },
    {
     "name": "stdout",
     "output_type": "stream",
     "text": [
      "Feature: URLCharProb\n"
     ]
    }
   ],
   "source": [
    "# feature characteristics\n",
    "dropdown = widgets.Dropdown(\n",
    "    options=data.columns,\n",
    "    value=None,                              \n",
    "    description='Select Feature:', \n",
    "    style={'description_width': 'initial'}\n",
    ")\n",
    "\n",
    "def showFeatureCharacteristics(change):\n",
    "    clear_output()\n",
    "    display(dropdown)\n",
    "    feature = change['new']\n",
    "    print(f\"Feature: {feature}\")\n",
    "\n",
    "dropdown.observe(showFeatureCharacteristics, names='value')\n",
    "display(dropdown)"
   ]
  }
 ],
 "metadata": {
  "kernelspec": {
   "display_name": "venv",
   "language": "python",
   "name": "python3"
  },
  "language_info": {
   "codemirror_mode": {
    "name": "ipython",
    "version": 3
   },
   "file_extension": ".py",
   "mimetype": "text/x-python",
   "name": "python",
   "nbconvert_exporter": "python",
   "pygments_lexer": "ipython3",
   "version": "3.13.0"
  }
 },
 "nbformat": 4,
 "nbformat_minor": 2
}
